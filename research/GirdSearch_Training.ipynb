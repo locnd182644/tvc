{
 "cells": [
  {
   "cell_type": "code",
   "execution_count": null,
   "metadata": {},
   "outputs": [],
   "source": [
    "import os"
   ]
  },
  {
   "cell_type": "code",
   "execution_count": null,
   "metadata": {},
   "outputs": [],
   "source": [
    "os.chdir(\"../\")"
   ]
  },
  {
   "cell_type": "code",
   "execution_count": null,
   "metadata": {},
   "outputs": [],
   "source": [
    "import os\n",
    "from fastapi import FastAPI, HTTPException, UploadFile\n",
    "from fastapi.responses import FileResponse, JSONResponse, PlainTextResponse\n",
    "from pydantic import BaseModel\n",
    "import uvicorn\n",
    "import subprocess\n",
    "\n",
    "from git import Repo as GitRepo, GitCommandError\n",
    "from dvc.repo import Repo as DVCRepo\n",
    "\n",
    "from src.Classification.utils.common import read_yaml, write_yaml, get_local_version, update_number_local_version\n",
    "from src.Classification.constants import *\n",
    "from src.Classification import logger\n",
    "from box import ConfigBox"
   ]
  },
  {
   "cell_type": "code",
   "execution_count": null,
   "metadata": {},
   "outputs": [],
   "source": [
    "git_repo = GitRepo(\".\")\n",
    "dvc_repo = DVCRepo(\".\")"
   ]
  },
  {
   "cell_type": "code",
   "execution_count": null,
   "metadata": {},
   "outputs": [],
   "source": [
    "ImageSizes = [[40, 40, 3], [80, 80, 3]]\n",
    "DatasetRatios = [[0.8, 0.1, 0.1], [0.6, 0.2, 0.2]]\n",
    "LearningRates = [0.0001, 0.00001]\n",
    "BatchSizes = [16, 32]\n",
    "Epochs = [10, 20]"
   ]
  },
  {
   "cell_type": "code",
   "execution_count": null,
   "metadata": {},
   "outputs": [],
   "source": [
    "BRANCH_NAME = \"tgv\"\n",
    "TMP_BRANCH_NAME = \"tmp\"\n",
    "params = read_yaml(PARAMS_FILE_PATH)\n",
    "i = 0"
   ]
  },
  {
   "cell_type": "code",
   "execution_count": null,
   "metadata": {},
   "outputs": [],
   "source": [
    "for image_size in ImageSizes:\n",
    "    for dataset_ratio in DatasetRatios:\n",
    "        for learning_rate in LearningRates:\n",
    "            for batch_size in BatchSizes:\n",
    "                for epoch in Epochs:\n",
    "                    i += 1\n",
    "                    print(f\"Running experiment {i}\")\n",
    "                    params.IMAGE_SIZE = image_size\n",
    "                    params.TRAIN_VAL_TEST_RATIO = dataset_ratio\n",
    "                    params.LEARNING_RATE = learning_rate\n",
    "                    params.BATCH_SIZE = batch_size\n",
    "                    params.EPOCHS = epoch\n",
    "                    write_yaml(PARAMS_FILE_PATH, params)\n",
    "\n",
    "                    dvc_repo.reproduce()\n",
    "                    print(\"Reproduce done\")\n",
    "                    dvc_repo.push()\n",
    "                    print(\"Reproduce pushed\")\n",
    "\n",
    "                    update_number_local_version(type=\"patch\")\n",
    "                    version_name = get_local_version()\n",
    "\n",
    "                    git_repo.git.checkout(\"-b\", TMP_BRANCH_NAME)\n",
    "                    git_repo.git.add(A=True)\n",
    "                    git_repo.index.commit(f\"Experiment {i}\")\n",
    "                    git_repo.git.tag(version_name)\n",
    "                    git_repo.git.checkout(BRANCH_NAME)\n",
    "                    git_repo.git.branch(\"-D\", TMP_BRANCH_NAME)\n",
    "                    git_repo.git.checkout(version_name)\n",
    "                    dvc_repo.pull(force=True)\n",
    "                    print(\"Experiment done\")\n",
    "                    print(\"----------------------------------\")\n"
   ]
  }
 ],
 "metadata": {
  "kernelspec": {
   "display_name": "tgv",
   "language": "python",
   "name": "python3"
  },
  "language_info": {
   "codemirror_mode": {
    "name": "ipython",
    "version": 3
   },
   "file_extension": ".py",
   "mimetype": "text/x-python",
   "name": "python",
   "nbconvert_exporter": "python",
   "pygments_lexer": "ipython3",
   "version": "3.9.21"
  }
 },
 "nbformat": 4,
 "nbformat_minor": 2
}
