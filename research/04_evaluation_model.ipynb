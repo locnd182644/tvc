{
 "cells": [
  {
   "cell_type": "code",
   "execution_count": null,
   "metadata": {},
   "outputs": [],
   "source": [
    "import os"
   ]
  },
  {
   "cell_type": "code",
   "execution_count": null,
   "metadata": {},
   "outputs": [],
   "source": [
    "os.chdir(\"../\")"
   ]
  },
  {
   "cell_type": "code",
   "execution_count": null,
   "metadata": {},
   "outputs": [],
   "source": [
    "%pwd"
   ]
  },
  {
   "cell_type": "code",
   "execution_count": null,
   "metadata": {},
   "outputs": [],
   "source": [
    "SCORE_NAMES = [\"loss\", \"accuracy\", \"time\"]"
   ]
  },
  {
   "cell_type": "code",
   "execution_count": null,
   "metadata": {},
   "outputs": [],
   "source": [
    "from dataclasses import dataclass\n",
    "from pathlib import Path\n",
    "\n",
    "@dataclass(frozen=True)\n",
    "class EvaluationConfig:\n",
    "    path_of_model: Path\n",
    "    training_data: Path\n",
    "    all_params: dict\n",
    "    params_image_size: list\n",
    "    params_batch_size: int\n",
    "    is_remote_log: bool\n",
    "    repo_owner: str\n",
    "    repo_name: str"
   ]
  },
  {
   "cell_type": "code",
   "execution_count": null,
   "metadata": {},
   "outputs": [],
   "source": [
    "from src.Classification.constants import *\n",
    "from src.Classification.utils.common import read_yaml, create_directories, save_json"
   ]
  },
  {
   "cell_type": "code",
   "execution_count": null,
   "metadata": {},
   "outputs": [],
   "source": [
    "class ConfigurationManager:\n",
    "    def __init__(\n",
    "        self, \n",
    "        config_filepath = CONFIG_FILE_PATH,\n",
    "        params_filepath = PARAMS_FILE_PATH):\n",
    "        self.config = read_yaml(config_filepath)\n",
    "        self.params = read_yaml(params_filepath)\n",
    "        create_directories([self.config.artifacts_root])\n",
    "\n",
    "    \n",
    "    def get_evaluation_config(self) -> EvaluationConfig:\n",
    "        eval_config = EvaluationConfig(\n",
    "            path_of_model=Path(self.config.training.trained_model_path),\n",
    "            training_data=Path(self.config.data_ingestion.dataset_dir),\n",
    "            all_params=self.params,\n",
    "            params_image_size=self.params.IMAGE_SIZE,\n",
    "            params_batch_size=self.params.BATCH_SIZE,\n",
    "            is_remote_log=self.config.evaluation.remote_log,\n",
    "            repo_owner=self.config.evaluation.repository_owner,\n",
    "            repo_name=self.config.evaluation.repository_name\n",
    "        )\n",
    "        return eval_config\n",
    "\n"
   ]
  },
  {
   "cell_type": "code",
   "execution_count": null,
   "metadata": {},
   "outputs": [],
   "source": [
    "import tensorflow as tf\n",
    "from pathlib import Path\n",
    "import mlflow\n",
    "import mlflow.keras\n",
    "from urllib.parse import urlparse\n",
    "import dagshub\n",
    "import numpy as np\n",
    "from sklearn.metrics import confusion_matrix\n",
    "import seaborn as sns\n",
    "import matplotlib.pyplot as plt\n",
    "import pandas as pd\n",
    "from src.Classification import logger\n",
    "from datetime import datetime"
   ]
  },
  {
   "cell_type": "code",
   "execution_count": null,
   "metadata": {},
   "outputs": [],
   "source": [
    "class Evaluation:\n",
    "    def __init__(self, config: EvaluationConfig):\n",
    "        self.config = config\n",
    "    \n",
    "    def _test_generator(self):\n",
    "\n",
    "        datagenerator_kwargs = dict(\n",
    "            rescale = 1./255\n",
    "        )\n",
    "\n",
    "        dataflow_kwargs = dict(\n",
    "            target_size=self.config.params_image_size[:-1],\n",
    "            batch_size=self.config.params_batch_size,\n",
    "            interpolation=\"bilinear\"\n",
    "        )\n",
    "\n",
    "        test_datagenerator = tf.keras.preprocessing.image.ImageDataGenerator(\n",
    "            **datagenerator_kwargs\n",
    "        )\n",
    "\n",
    "        self.test_generator = test_datagenerator.flow_from_directory(\n",
    "            directory=os.path.join(self.config.training_data, \"test\"),\n",
    "            shuffle=False,\n",
    "            **dataflow_kwargs\n",
    "        )\n",
    "\n",
    "\n",
    "    @staticmethod\n",
    "    def load_model(path: Path) -> tf.keras.Model:\n",
    "        return tf.keras.models.load_model(path)\n",
    "    \n",
    "\n",
    "    def evaluation(self, tries=2):\n",
    "        self.model = self.load_model(self.config.path_of_model)\n",
    "        self._test_generator()\n",
    "        logger.info(\"Start Evaluate -----------\")\n",
    "        list_scores = []\n",
    "        try_count = 0\n",
    "        while (try_count < tries):\n",
    "            logger.info(\"----------- Start evaluate {} time-----------\".format(try_count + 1))\n",
    "            start_time = datetime.now()  # Bắt đầu đo thời gian\n",
    "            scores = self.model.evaluate(self.test_generator)\n",
    "            end_time = datetime.now()  # Kết thúc đo thời gian\n",
    "            sample_nums = self.test_generator.samples\n",
    "            time = (end_time - start_time).total_seconds() / sample_nums\n",
    "            scores.append(time)\n",
    "            list_scores.append(scores)\n",
    "            logger.info(\"----------- End evaluate {} time-----------\".format(try_count + 1))\n",
    "            try_count = try_count + 1\n",
    "\n",
    "        # Get Average the evaluation\n",
    "        np_scores = np.array(list_scores)\n",
    "        avg_loss = np.mean(np_scores[:,0])\n",
    "        avg_accuracy = np.mean(np_scores[:,1])\n",
    "        avg_time = np.mean(np_scores[:,2])\n",
    "        self.scores = [avg_loss, avg_accuracy, avg_time]\n",
    "        logger.info(\"------------- End Evaluate\")\n",
    "\n",
    "        self.save_scores()\n",
    "        self.save_confusion_matrix()\n",
    "\n",
    "    def save_scores(self):\n",
    "        scores = {SCORE_NAMES[0]: self.scores[0], SCORE_NAMES[1]: self.scores[1], SCORE_NAMES[2]: self.scores[2]}\n",
    "        save_json(path=Path(\"scores.json\"), data=scores)\n",
    "\n",
    "    def save_confusion_matrix(self):\n",
    "        data_list = []\n",
    "        label_list = []\n",
    "        batch_index = 0\n",
    "\n",
    "        while batch_index <= self.test_generator.batch_index:\n",
    "            data = self.test_generator.next()\n",
    "            data_list.append(data[0])\n",
    "            label_list.append(data[1])\n",
    "            batch_index = batch_index + 1\n",
    "\n",
    "        data = np.vstack(data_list)\n",
    "        y_test = np.vstack(label_list)\n",
    "        y_test = np.argmax(y_test, axis=1)\n",
    "\n",
    "        prediction = self.model.predict(data)\n",
    "\n",
    "        y_pred = np.argmax(prediction, axis=1)\n",
    "\n",
    "        # Create a confusion matrix\n",
    "        cm = confusion_matrix(y_test, y_pred)\n",
    "        # Plot the confusion matrix\n",
    "        classes = self.test_generator.class_indices.keys()\n",
    "        sns.heatmap(cm, annot=True,fmt='d', cmap='YlGnBu', xticklabels=classes, yticklabels=classes)\n",
    "        plt.xlabel('Prediction',fontsize=12)\n",
    "        plt.ylabel('Actual',fontsize=12)\n",
    "        plt.title('Confusion Matrix',fontsize=16)\n",
    "        plt.savefig(\"confision_matrix.png\")\n",
    "\n",
    "    \n",
    "    def log_into_mlflow(self):\n",
    "        if (self.config.is_remote_log):\n",
    "            dagshub.init(repo_owner=self.config.repo_owner, repo_name=self.config.repo_name, mlflow=True)\n",
    "            with mlflow.start_run():\n",
    "                mlflow.log_params(self.config.all_params)\n",
    "                mlflow.log_metrics({SCORE_NAMES[0]: self.scores[0], SCORE_NAMES[1]: self.scores[1], SCORE_NAMES[2]: self.scores[2]})\n",
    "                # mlflow.keras.log_model(self.model, \"model\", registered_model_name=\"DefectHole_VGG16Model\")\n"
   ]
  },
  {
   "cell_type": "code",
   "execution_count": null,
   "metadata": {},
   "outputs": [],
   "source": [
    "try:\n",
    "    config = ConfigurationManager()\n",
    "    eval_config = config.get_evaluation_config()\n",
    "    evaluation = Evaluation(eval_config)\n",
    "    evaluation.evaluation()\n",
    "    evaluation.log_into_mlflow()\n",
    "\n",
    "except Exception as e:\n",
    "   raise e"
   ]
  },
  {
   "cell_type": "code",
   "execution_count": null,
   "metadata": {},
   "outputs": [],
   "source": []
  }
 ],
 "metadata": {
  "kernelspec": {
   "display_name": "vms",
   "language": "python",
   "name": "python3"
  },
  "language_info": {
   "codemirror_mode": {
    "name": "ipython",
    "version": 3
   },
   "file_extension": ".py",
   "mimetype": "text/x-python",
   "name": "python",
   "nbconvert_exporter": "python",
   "pygments_lexer": "ipython3",
   "version": "3.9.20"
  }
 },
 "nbformat": 4,
 "nbformat_minor": 2
}
